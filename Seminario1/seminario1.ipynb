{
  "nbformat": 4,
  "nbformat_minor": 0,
  "metadata": {
    "colab": {
      "name": "MNIST in Keras.ipynb",
      "version": "0.3.2",
      "provenance": [],
      "collapsed_sections": []
    },
    "language_info": {
      "codemirror_mode": {
        "name": "ipython",
        "version": 3
      },
      "file_extension": ".py",
      "mimetype": "text/x-python",
      "name": "python",
      "nbconvert_exporter": "python",
      "pygments_lexer": "ipython3",
      "version": "3.5.1"
    },
    "kernelspec": {
      "name": "python3",
      "display_name": "Python 3"
    },
    "accelerator": "TPU"
  },
  "cells": [
    {
      "cell_type": "code",
      "metadata": {
        "id": "QYnIJGf_FpiX",
        "colab_type": "code",
        "colab": {}
      },
      "source": [
        "%matplotlib inline"
      ],
      "execution_count": 0,
      "outputs": []
    },
    {
      "cell_type": "markdown",
      "metadata": {
        "id": "pV9WbVAZFpig",
        "colab_type": "text"
      },
      "source": [
        "# Seminario 1 : Aprender a construir redes neuronales simples\n",
        "\n",
        "###Autores: \n",
        "\n",
        "Rafael López, lopgon.rafael@gmail.com\n",
        "\n",
        "Jose Sanchez, josangar.sg@gmail.com\n",
        "\n",
        "\n"
      ]
    },
    {
      "cell_type": "markdown",
      "metadata": {
        "id": "tvLHz7t3Mnr4",
        "colab_type": "text"
      },
      "source": [
        "##Estructura del seminario\n",
        "\n",
        "1. Definición de requisitos\n",
        "2. Estructura de un proyecto de Deep Learning\n",
        "3. Construcción de una red neuronal fully connected mediante Keras\n",
        "4. Construcción de una red neuronal convolucional mediante Keras\n",
        "5. Comparación de resultados\n",
        "6. Conclusiones\n",
        "7. Configuración del entorno de trabajo local\n",
        "\n",
        "\n",
        "\n"
      ]
    },
    {
      "cell_type": "markdown",
      "metadata": {
        "id": "7sKNg7KnV_Cl",
        "colab_type": "text"
      },
      "source": [
        "## 1. Definición de requisitos"
      ]
    },
    {
      "cell_type": "markdown",
      "metadata": {
        "id": "Ot-zCUtkFpii",
        "colab_type": "text"
      },
      "source": [
        "### 1.1 Requisitos de software\n",
        "\n",
        "#### Lenguaje de programación: \n",
        "  - Python 3.6\n",
        "  \n",
        "### Librerías:\n",
        "  - **Tensorflow**: es una librería de software de código abierto para computación numérica, que utiliza gráficos de flujo de datos.\n",
        "  \n",
        "  - **Keras**: es un framework de alto nivel para el aprendizaje, escrito en Python y capaz de correr sobre los frameworks TensorFlow, CNTK, o Theano. Fue desarrollado con el objeto de facilitar un proceso de experimentación rápida.\n",
        "  \n",
        "  - **NumPy**: es una librería de Python, que le agrega mayor soporte para vectores y matrices, constituyendo una biblioteca de funciones matemáticas de alto nivel para operar con esos vectores o matrices.\n",
        "  \n",
        "  - **Matplotlib**: es una librería para la generación de gráficos a partir de datos contenidos en listas o arrays en el lenguaje de programación Python y su extensión matemática NumPy. \n",
        "  \n",
        " \n",
        "[texto del enlace](https://)"
      ]
    },
    {
      "cell_type": "markdown",
      "metadata": {
        "id": "b_J4_7_TOZsF",
        "colab_type": "text"
      },
      "source": [
        "### 1.2 Requisitos de datos\n",
        "\n",
        "MNIST es un conjunto de datos de imagen público que consta de una imagen de 28 por 28 píxeles de un solo dígito escrita a mano. Cada imagen en MNIST es un dígito del 0 al 9. El desafío del MNIST es desarrollar un algoritmo de aprendizaje automático que pueda clasificar estas imágenes en 10 clases (0 a 9)"
      ]
    },
    {
      "cell_type": "markdown",
      "metadata": {
        "id": "bux2E0I0TcYH",
        "colab_type": "text"
      },
      "source": [
        "IMPORTAR IMAGEN DATASET"
      ]
    },
    {
      "cell_type": "markdown",
      "metadata": {
        "id": "7nU4pf0AFpij",
        "colab_type": "text"
      },
      "source": [
        "### 1.3 Importación de dependencias"
      ]
    },
    {
      "cell_type": "code",
      "metadata": {
        "id": "i3f-prXsFpik",
        "colab_type": "code",
        "outputId": "b78087e7-0619-4aaa-862b-3a20cf6cbe99",
        "colab": {
          "base_uri": "https://localhost:8080/",
          "height": 35
        }
      },
      "source": [
        "import numpy as np\n",
        "import matplotlib.pyplot as plt\n",
        "plt.rcParams['figure.figsize'] = (10,10)\n",
        "\n",
        "from keras.datasets import mnist # Dataset a utilizar\n",
        "from keras.models import Model # Modelo sobre el que se definen las redes neuronales\n",
        "from keras.layers import Input, Dense, Dropout # Capas red fully connected\n",
        "from keras.layers import Conv2D, MaxPool2D, Flatten # Capas red para convolucional\n",
        "from keras.utils import np_utils # Utilidades para procesar datos"
      ],
      "execution_count": 0,
      "outputs": [
        {
          "output_type": "stream",
          "text": [
            "Using TensorFlow backend.\n"
          ],
          "name": "stderr"
        }
      ]
    },
    {
      "cell_type": "markdown",
      "metadata": {
        "id": "1ovGYnoDTpG2",
        "colab_type": "text"
      },
      "source": [
        "## 2. Estructura de un proyecto de Deep Learning\n",
        "\n",
        "- Preparación del dataset\n",
        "- Carga de datos\n",
        "- Diseño de la arquitectura de la red neuronal\n",
        "- Entrenamiento\n",
        "- Evaluación del modelo\n"
      ]
    },
    {
      "cell_type": "markdown",
      "metadata": {
        "id": "_yb15Ev2XLgk",
        "colab_type": "text"
      },
      "source": [
        "## 3. Construcción de una red neuronal fully connected mediante Keras\n",
        "\n"
      ]
    },
    {
      "cell_type": "markdown",
      "metadata": {
        "id": "c-ksR5zVFpip",
        "colab_type": "text"
      },
      "source": [
        "### 3.1 Carga de datos"
      ]
    },
    {
      "cell_type": "code",
      "metadata": {
        "id": "xanXt5O7Fpiq",
        "colab_type": "code",
        "outputId": "563d30cb-65e4-4812-e3ec-447b88a9e870",
        "colab": {
          "base_uri": "https://localhost:8080/",
          "height": 87
        }
      },
      "source": [
        "nb_classes = 10\n",
        "\n",
        "# the data, shuffled and split between tran and test sets\n",
        "(X_train, y_train), (X_testval, y_testval) = mnist.load_data()\n",
        "print(\"X_train original shape\", X_train.shape)\n",
        "print(\"y_train original shape\", y_train.shape)"
      ],
      "execution_count": 0,
      "outputs": [
        {
          "output_type": "stream",
          "text": [
            "Downloading data from https://s3.amazonaws.com/img-datasets/mnist.npz\n",
            "11493376/11490434 [==============================] - 0s 0us/step\n",
            "X_train original shape (60000, 28, 28)\n",
            "y_train original shape (60000,)\n"
          ],
          "name": "stdout"
        }
      ]
    },
    {
      "cell_type": "markdown",
      "metadata": {
        "id": "vif0_Wr6X2-c",
        "colab_type": "text"
      },
      "source": [
        "#### Visualización de datos"
      ]
    },
    {
      "cell_type": "code",
      "metadata": {
        "id": "hC7zz21TFpiv",
        "colab_type": "code",
        "outputId": "ed8b1fdb-e929-4963-896b-5615b82c2d27",
        "colab": {
          "base_uri": "https://localhost:8080/",
          "height": 607
        }
      },
      "source": [
        "for i in range(9):\n",
        "    plt.subplot(3,3,i+1)\n",
        "    plt.imshow(X_train[i], cmap='gray', interpolation='none')\n",
        "    plt.title(\"Class {}\".format(y_train[i]))"
      ],
      "execution_count": 0,
      "outputs": [
        {
          "output_type": "display_data",
          "data": {
            "image/png": "[encoded data removed]",
            "text/plain": [
              "<Figure size 720x720 with 9 Axes>"
            ]
          },
          "metadata": {
            "tags": []
          }
        }
      ]
    },
    {
      "cell_type": "markdown",
      "metadata": {
        "id": "DDzSxxKdFpiy",
        "colab_type": "text"
      },
      "source": [
        "#### Preproceso de datos\n",
        "\n",
        "- Reshape de la imagenes (2D) a vectores (1D)\n",
        "- Convertir tipo de datos a coma flotante\n",
        "- Normalización de rangos de intensidad de las imágenes a 0-1."
      ]
    },
    {
      "cell_type": "code",
      "metadata": {
        "id": "gllZpaDFFpiz",
        "colab_type": "code",
        "outputId": "e51baa1e-0455-4fe0-b6f5-1104c8cc53a9",
        "colab": {
          "base_uri": "https://localhost:8080/",
          "height": 52
        }
      },
      "source": [
        "X_train = X_train.reshape(60000, 784)\n",
        "X_testval = X_testval.reshape(10000, 784)\n",
        "X_train = X_train.astype('float32')\n",
        "X_testval = X_testval.astype('float32')\n",
        "X_train /= 255\n",
        "X_testval /= 255\n",
        "print(\"Training matrix shape\", X_train.shape)\n",
        "print(\"Testing matrix shape\", X_testval.shape)"
      ],
      "execution_count": 0,
      "outputs": [
        {
          "output_type": "stream",
          "text": [
            "Training matrix shape (60000, 784)\n",
            "Testing matrix shape (10000, 784)\n"
          ],
          "name": "stdout"
        }
      ]
    },
    {
      "cell_type": "markdown",
      "metadata": {
        "id": "oJaNAubmFpi4",
        "colab_type": "text"
      },
      "source": [
        "#### Preproceso de etiquetas\n",
        "\n",
        "- One-hot-encoding\n",
        "\n",
        "```\n",
        "0 -> [1, 0, 0, 0, 0, 0, 0, 0, 0]\n",
        "1 -> [0, 1, 0, 0, 0, 0, 0, 0, 0]\n",
        "2 -> [0, 0, 1, 0, 0, 0, 0, 0, 0]\n",
        "etc.\n",
        "```"
      ]
    },
    {
      "cell_type": "code",
      "metadata": {
        "id": "KlrS_SzyFpi5",
        "colab_type": "code",
        "outputId": "643e3367-dd6f-4c40-f324-ae5ed2690d5b",
        "colab": {
          "base_uri": "https://localhost:8080/",
          "height": 243
        }
      },
      "source": [
        "print('Y_train from 0 to 9')\n",
        "print(y_train[:10])\n",
        "Y_train = np_utils.to_categorical(y_train, nb_classes)\n",
        "Y_testval = np_utils.to_categorical(y_testval, nb_classes)\n",
        "print('Y_train onehot encoding')\n",
        "print(Y_train[:10])"
      ],
      "execution_count": 0,
      "outputs": [
        {
          "output_type": "stream",
          "text": [
            "Y_train from 0 to 9\n",
            "[5 0 4 1 9 2 1 3 1 4]\n",
            "Y_train onehot encoding\n",
            "[[0. 0. 0. 0. 0. 1. 0. 0. 0. 0.]\n",
            " [1. 0. 0. 0. 0. 0. 0. 0. 0. 0.]\n",
            " [0. 0. 0. 0. 1. 0. 0. 0. 0. 0.]\n",
            " [0. 1. 0. 0. 0. 0. 0. 0. 0. 0.]\n",
            " [0. 0. 0. 0. 0. 0. 0. 0. 0. 1.]\n",
            " [0. 0. 1. 0. 0. 0. 0. 0. 0. 0.]\n",
            " [0. 1. 0. 0. 0. 0. 0. 0. 0. 0.]\n",
            " [0. 0. 0. 1. 0. 0. 0. 0. 0. 0.]\n",
            " [0. 1. 0. 0. 0. 0. 0. 0. 0. 0.]\n",
            " [0. 0. 0. 0. 1. 0. 0. 0. 0. 0.]]\n"
          ],
          "name": "stdout"
        }
      ]
    },
    {
      "cell_type": "markdown",
      "metadata": {
        "id": "3iwalwzO2cD7",
        "colab_type": "text"
      },
      "source": [
        "#### Partición de datos de test en subset de validación y subset de test"
      ]
    },
    {
      "cell_type": "code",
      "metadata": {
        "id": "eS0U-wVB2tE7",
        "colab_type": "code",
        "outputId": "14c20f26-d7a0-4bb5-eb78-74f17f1ec9b7",
        "colab": {
          "base_uri": "https://localhost:8080/",
          "height": 52
        }
      },
      "source": [
        "X_val = X_testval[:int(X_testval.shape[0]/2)]\n",
        "Y_val = Y_testval[:int(Y_testval.shape[0]/2)]\n",
        "X_test = X_testval[int(X_testval.shape[0]/2):]\n",
        "Y_test = Y_testval[int(Y_testval.shape[0]/2):]\n",
        "y_test = np.argmax(Y_test, axis=1)\n",
        "print(\"Validation matrix shape\", X_val.shape)\n",
        "print(\"Testing matrix shape\", X_test.shape)"
      ],
      "execution_count": 0,
      "outputs": [
        {
          "output_type": "stream",
          "text": [
            "Validation matrix shape (5000, 784)\n",
            "Testing matrix shape (5000, 784)\n"
          ],
          "name": "stdout"
        }
      ]
    },
    {
      "cell_type": "markdown",
      "metadata": {
        "id": "Bb3UrxLesqUg",
        "colab_type": "text"
      },
      "source": [
        "\n",
        "### 3.2 Diseño de la arquitectura de la red neuronal"
      ]
    },
    {
      "cell_type": "markdown",
      "metadata": {
        "id": "mrcU4TJPFpi7",
        "colab_type": "text"
      },
      "source": [
        "figurade neurona y otra de red neuronal"
      ]
    },
    {
      "cell_type": "code",
      "metadata": {
        "id": "813o2L5VszDt",
        "colab_type": "code",
        "outputId": "bbb3f1a1-839d-4074-ee73-702594121cb2",
        "colab": {
          "base_uri": "https://localhost:8080/",
          "height": 384
        }
      },
      "source": [
        "input_layer = Input(shape=(X_train.shape[1],)) # Declaramos las dimensionesde los datos de entrada a la red\n",
        "hidden_layer = Dense(32, activation='relu')(input_layer) # Definimos una capa oculta y su función de activación\n",
        "output_layer = Dense(10, activation='softmax')(hidden_layer) # Definimos la capa de salida y su función de activación\n",
        "model= Model(inputs=input_layer, outputs=output_layer) # Generamos el modelo de keras a partir de las capas que hemos definido\n",
        "model.summary()"
      ],
      "execution_count": 0,
      "outputs": [
        {
          "output_type": "stream",
          "text": [
            "WARNING: Logging before flag parsing goes to stderr.\n",
            "W0622 19:16:09.161606 140520866420608 deprecation_wrapper.py:119] From /usr/local/lib/python3.6/dist-packages/keras/backend/tensorflow_backend.py:74: The name tf.get_default_graph is deprecated. Please use tf.compat.v1.get_default_graph instead.\n",
            "\n",
            "W0622 19:16:09.212095 140520866420608 deprecation_wrapper.py:119] From /usr/local/lib/python3.6/dist-packages/keras/backend/tensorflow_backend.py:517: The name tf.placeholder is deprecated. Please use tf.compat.v1.placeholder instead.\n",
            "\n",
            "W0622 19:16:09.221232 140520866420608 deprecation_wrapper.py:119] From /usr/local/lib/python3.6/dist-packages/keras/backend/tensorflow_backend.py:4138: The name tf.random_uniform is deprecated. Please use tf.random.uniform instead.\n",
            "\n"
          ],
          "name": "stderr"
        },
        {
          "output_type": "stream",
          "text": [
            "_________________________________________________________________\n",
            "Layer (type)                 Output Shape              Param #   \n",
            "=================================================================\n",
            "input_1 (InputLayer)         (None, 784)               0         \n",
            "_________________________________________________________________\n",
            "dense_1 (Dense)              (None, 32)                25120     \n",
            "_________________________________________________________________\n",
            "dense_2 (Dense)              (None, 10)                330       \n",
            "=================================================================\n",
            "Total params: 25,450\n",
            "Trainable params: 25,450\n",
            "Non-trainable params: 0\n",
            "_________________________________________________________________\n"
          ],
          "name": "stdout"
        }
      ]
    },
    {
      "cell_type": "markdown",
      "metadata": {
        "id": "tXTlK0dtFpi_",
        "colab_type": "text"
      },
      "source": [
        "#### Compilación del modelo\n",
        "Keras está construido sobre Tensorflow, el cuál permite definir un grafo de computación en Python que posteriormente se compila y se lanza de forma eficiente en la CPU (o GPU) sin utilizar el intérprete de Python.\n",
        "\n",
        "Cuando se compila un modelo, debemos especificar la función de coste y el optimizador:\n",
        " \n",
        "- **Función de coste**: define como se mide el error de la red en función de las diferencias entre las predicciones de la red y las etiquetas de los datos de entrenamiento.\n",
        "- **Optimizador**: determina como aprende el modelo, es decir, como se propaga el error a la salida de la red por las diferentes capas de la misma. \n",
        "\n",
        "\n"
      ]
    },
    {
      "cell_type": "code",
      "metadata": {
        "id": "j-FnU0EHFpjA",
        "colab_type": "code",
        "outputId": "1505a230-b88f-4707-a7bd-def2369dc48c",
        "colab": {
          "base_uri": "https://localhost:8080/",
          "height": 107
        }
      },
      "source": [
        "model.compile(loss='categorical_crossentropy', optimizer='adam', metrics=['accuracy'])"
      ],
      "execution_count": 0,
      "outputs": [
        {
          "output_type": "stream",
          "text": [
            "W0622 19:16:09.271411 140520866420608 deprecation_wrapper.py:119] From /usr/local/lib/python3.6/dist-packages/keras/optimizers.py:790: The name tf.train.Optimizer is deprecated. Please use tf.compat.v1.train.Optimizer instead.\n",
            "\n",
            "W0622 19:16:09.312317 140520866420608 deprecation_wrapper.py:119] From /usr/local/lib/python3.6/dist-packages/keras/backend/tensorflow_backend.py:3295: The name tf.log is deprecated. Please use tf.math.log instead.\n",
            "\n"
          ],
          "name": "stderr"
        }
      ]
    },
    {
      "cell_type": "markdown",
      "metadata": {
        "id": "Z3aTL7sFFpjC",
        "colab_type": "text"
      },
      "source": [
        "### 3.3 Entrenamiento\n",
        "\n",
        "- Definir batch_size\n",
        "- Definir número de epochs (iteraciones de entrenamiento)\n",
        "- Intruducir datos para la validación del entrenamiento"
      ]
    },
    {
      "cell_type": "code",
      "metadata": {
        "id": "ZYoK3AjlFpjD",
        "colab_type": "code",
        "outputId": "68814c29-1c09-414d-c6ba-b08a5bf7899f",
        "colab": {
          "base_uri": "https://localhost:8080/",
          "height": 332
        }
      },
      "source": [
        "model.fit(X_train, Y_train,\n",
        "          batch_size=128, nb_epoch=4,\n",
        "          verbose=1,\n",
        "          validation_data=(X_val, Y_val)\n",
        "         )"
      ],
      "execution_count": 0,
      "outputs": [
        {
          "output_type": "stream",
          "text": [
            "/usr/local/lib/python3.6/dist-packages/ipykernel_launcher.py:4: UserWarning: The `nb_epoch` argument in `fit` has been renamed `epochs`.\n",
            "  after removing the cwd from sys.path.\n",
            "W0622 19:16:09.638117 140520866420608 deprecation.py:323] From /usr/local/lib/python3.6/dist-packages/tensorflow/python/ops/math_grad.py:1250: add_dispatch_support.<locals>.wrapper (from tensorflow.python.ops.array_ops) is deprecated and will be removed in a future version.\n",
            "Instructions for updating:\n",
            "Use tf.where in 2.0, which has the same broadcast rule as np.where\n",
            "W0622 19:16:09.693241 140520866420608 deprecation_wrapper.py:119] From /usr/local/lib/python3.6/dist-packages/keras/backend/tensorflow_backend.py:986: The name tf.assign_add is deprecated. Please use tf.compat.v1.assign_add instead.\n",
            "\n"
          ],
          "name": "stderr"
        },
        {
          "output_type": "stream",
          "text": [
            "Train on 60000 samples, validate on 5000 samples\n",
            "Epoch 1/4\n",
            "60000/60000 [==============================] - 2s 34us/step - loss: 0.5045 - acc: 0.8632 - val_loss: 0.3535 - val_acc: 0.8988\n",
            "Epoch 2/4\n",
            "60000/60000 [==============================] - 1s 22us/step - loss: 0.2521 - acc: 0.9289 - val_loss: 0.2836 - val_acc: 0.9170\n",
            "Epoch 3/4\n",
            "60000/60000 [==============================] - 1s 22us/step - loss: 0.2107 - acc: 0.9411 - val_loss: 0.2560 - val_acc: 0.9268\n",
            "Epoch 4/4\n",
            "60000/60000 [==============================] - 1s 22us/step - loss: 0.1820 - acc: 0.9483 - val_loss: 0.2335 - val_acc: 0.9356\n"
          ],
          "name": "stdout"
        },
        {
          "output_type": "execute_result",
          "data": {
            "text/plain": [
              "<keras.callbacks.History at 0x7fcd6dec9828>"
            ]
          },
          "metadata": {
            "tags": []
          },
          "execution_count": 11
        }
      ]
    },
    {
      "cell_type": "markdown",
      "metadata": {
        "id": "ncHoAyNBFpjH",
        "colab_type": "text"
      },
      "source": [
        "### 3.4 Evaluación del modelo"
      ]
    },
    {
      "cell_type": "markdown",
      "metadata": {
        "id": "aS6lkWLT4RyT",
        "colab_type": "text"
      },
      "source": [
        "#### Obtención de métricas"
      ]
    },
    {
      "cell_type": "code",
      "metadata": {
        "id": "-Wk2Q_YGFpjH",
        "colab_type": "code",
        "outputId": "4900b1c4-f8db-4bc6-b938-ec6ce39358cb",
        "colab": {
          "base_uri": "https://localhost:8080/",
          "height": 52
        }
      },
      "source": [
        "score = model.evaluate(X_test, Y_test, verbose=0)\n",
        "print('Test score:', score[0])\n",
        "print('Test accuracy:', score[1])"
      ],
      "execution_count": 0,
      "outputs": [
        {
          "output_type": "stream",
          "text": [
            "Test score: 0.12623495618402958\n",
            "Test accuracy: 0.966\n"
          ],
          "name": "stdout"
        }
      ]
    },
    {
      "cell_type": "markdown",
      "metadata": {
        "id": "xXbjwWDeFpjL",
        "colab_type": "text"
      },
      "source": [
        "#### Inspección de las predicciones"
      ]
    },
    {
      "cell_type": "code",
      "metadata": {
        "id": "2go-gfGjFpjM",
        "colab_type": "code",
        "colab": {}
      },
      "source": [
        "# Predecimos las clases de los datos de test y las post-procesamos para trabajar\n",
        "# cómodament con ellas\n",
        "predicted_classes = model.predict(X_test)\n",
        "predicted_classes = np.round(predicted_classes)\n",
        "predicted_classes = np.argmax(predicted_classes, axis=1)\n",
        "\n",
        "# Obtenemos los índices de las muestras que se han predecido correcta e \n",
        "# incorrectamente para mostrarlas posteriomente\n",
        "correct_indices = np.nonzero(predicted_classes == y_test)[0]\n",
        "incorrect_indices = np.nonzero(predicted_classes != y_test)[0]"
      ],
      "execution_count": 0,
      "outputs": []
    },
    {
      "cell_type": "code",
      "metadata": {
        "id": "xjR5EdF8FpjP",
        "colab_type": "code",
        "outputId": "57247c63-48c9-4c1a-918e-60edc274ff3d",
        "colab": {
          "base_uri": "https://localhost:8080/",
          "height": 607
        }
      },
      "source": [
        "# Mostramos muestras correctamente clasificadas\n",
        "plt.figure()\n",
        "for i, correct in enumerate(correct_indices[:9]):\n",
        "    plt.subplot(3,3,i+1)\n",
        "    plt.imshow(X_test[correct].reshape(28,28), cmap='gray', interpolation='none')\n",
        "    plt.title(\"Predicted {}, Class {}\".format(predicted_classes[correct], y_test[correct]))"
      ],
      "execution_count": 0,
      "outputs": [
        {
          "output_type": "display_data",
          "data": {
            "image/png": "[encoded data removed]",
            "text/plain": [
              "<Figure size 720x720 with 9 Axes>"
            ]
          },
          "metadata": {
            "tags": []
          }
        }
      ]
    },
    {
      "cell_type": "code",
      "metadata": {
        "id": "3w5LsnITctHN",
        "colab_type": "code",
        "outputId": "ae2bdf4a-e455-433a-f4ea-eb1669098124",
        "colab": {
          "base_uri": "https://localhost:8080/",
          "height": 607
        }
      },
      "source": [
        "# Mostramos muestras incorrectamente clasificadas\n",
        "plt.figure()\n",
        "for i, incorrect in enumerate(incorrect_indices[:9]):\n",
        "    plt.subplot(3,3,i+1)\n",
        "    plt.imshow(X_test[incorrect].reshape(28,28), cmap='gray', interpolation='none')\n",
        "    plt.title(\"Predicted {}, Class {}\".format(predicted_classes[incorrect], y_test[incorrect]))"
      ],
      "execution_count": 0,
      "outputs": [
        {
          "output_type": "display_data",
          "data": {
            "image/png": "[encoded data removed]",
            "text/plain": [
              "<Figure size 720x720 with 9 Axes>"
            ]
          },
          "metadata": {
            "tags": []
          }
        }
      ]
    },
    {
      "cell_type": "markdown",
      "metadata": {
        "id": "H0UenxhbdFU_",
        "colab_type": "text"
      },
      "source": [
        "### 3.5 Añadiendo complejidad al modelo"
      ]
    },
    {
      "cell_type": "markdown",
      "metadata": {
        "id": "KRQ1qUL4d7Ys",
        "colab_type": "text"
      },
      "source": [
        "#### Añadir más neuronas a la capa oculta"
      ]
    },
    {
      "cell_type": "code",
      "metadata": {
        "id": "K52KJtdpd5s8",
        "colab_type": "code",
        "outputId": "86b318fb-aec9-4509-af1c-db1ad1a86233",
        "colab": {
          "base_uri": "https://localhost:8080/",
          "height": 488
        }
      },
      "source": [
        "# Diseño de la arquitectura de la red neuronal\n",
        "input_layer = Input(shape=(X_train.shape[1],))\n",
        "hidden_layer = Dense(512, activation='relu')(input_layer)\n",
        "output_layer = Dense(10, activation='softmax')(hidden_layer)\n",
        "model= Model(inputs=input_layer, outputs=output_layer)\n",
        "model.summary()\n",
        "\n",
        "# Compilación del modelo\n",
        "model.compile(loss='categorical_crossentropy', optimizer='adam', metrics=['accuracy'])\n",
        "\n",
        "# Entrenamiento\n",
        "model.fit(X_train, Y_train,\n",
        "          batch_size=128, nb_epoch=4,\n",
        "          verbose=1,\n",
        "          validation_data=(X_val, Y_val)\n",
        "         )\n",
        "\n",
        "# Obtención de métricas\n",
        "score = model.evaluate(X_test, Y_test, verbose=0)\n",
        "print('Test score:', score[0])\n",
        "print('Test accuracy:', score[1])"
      ],
      "execution_count": 0,
      "outputs": [
        {
          "output_type": "stream",
          "text": [
            "_________________________________________________________________\n",
            "Layer (type)                 Output Shape              Param #   \n",
            "=================================================================\n",
            "input_2 (InputLayer)         (None, 784)               0         \n",
            "_________________________________________________________________\n",
            "dense_3 (Dense)              (None, 512)               401920    \n",
            "_________________________________________________________________\n",
            "dense_4 (Dense)              (None, 10)                5130      \n",
            "=================================================================\n",
            "Total params: 407,050\n",
            "Trainable params: 407,050\n",
            "Non-trainable params: 0\n",
            "_________________________________________________________________\n"
          ],
          "name": "stdout"
        },
        {
          "output_type": "stream",
          "text": [
            "/usr/local/lib/python3.6/dist-packages/ipykernel_launcher.py:14: UserWarning: The `nb_epoch` argument in `fit` has been renamed `epochs`.\n",
            "  \n"
          ],
          "name": "stderr"
        },
        {
          "output_type": "stream",
          "text": [
            "Train on 60000 samples, validate on 5000 samples\n",
            "Epoch 1/4\n",
            "60000/60000 [==============================] - 6s 97us/step - loss: 0.2686 - acc: 0.9247 - val_loss: 0.1756 - val_acc: 0.9464\n",
            "Epoch 2/4\n",
            "60000/60000 [==============================] - 6s 94us/step - loss: 0.1082 - acc: 0.9694 - val_loss: 0.1266 - val_acc: 0.9596\n",
            "Epoch 3/4\n",
            "60000/60000 [==============================] - 6s 94us/step - loss: 0.0692 - acc: 0.9798 - val_loss: 0.1054 - val_acc: 0.9658\n",
            "Epoch 4/4\n",
            "60000/60000 [==============================] - 6s 93us/step - loss: 0.0501 - acc: 0.9852 - val_loss: 0.0851 - val_acc: 0.9726\n",
            "Test score: 0.04939889519829303\n",
            "Test accuracy: 0.9848\n"
          ],
          "name": "stdout"
        }
      ]
    },
    {
      "cell_type": "markdown",
      "metadata": {
        "id": "Vg2SQKzifFha",
        "colab_type": "text"
      },
      "source": [
        "#### Añadir más capas ocultas"
      ]
    },
    {
      "cell_type": "code",
      "metadata": {
        "id": "1sqlzZUUfRQJ",
        "colab_type": "code",
        "outputId": "40cee0e0-ecc0-497a-b21d-3f440756041b",
        "colab": {
          "base_uri": "https://localhost:8080/",
          "height": 523
        }
      },
      "source": [
        "# Diseño de la arquitectura de la red neuronal\n",
        "input_layer = Input(shape=(X_train.shape[1],))\n",
        "hidden_layer_1 = Dense(512, activation='relu')(input_layer)\n",
        "hidden_layer_2 = Dense(512, activation='relu')(hidden_layer_1)\n",
        "output_layer = Dense(10, activation='softmax')(hidden_layer_2)\n",
        "model= Model(inputs=input_layer, outputs=output_layer)\n",
        "model.summary()\n",
        "\n",
        "# Compilación del modelo\n",
        "model.compile(loss='categorical_crossentropy', optimizer='adam', metrics=['accuracy'])\n",
        "\n",
        "# Entrenamiento\n",
        "model.fit(X_train, Y_train,\n",
        "          batch_size=128, nb_epoch=4,\n",
        "          verbose=1,\n",
        "          validation_data=(X_val, Y_val)\n",
        "         )\n",
        "\n",
        "# Obtención de métricas\n",
        "score = model.evaluate(X_test, Y_test, verbose=0)\n",
        "print('Test score:', score[0])\n",
        "print('Test accuracy:', score[1])"
      ],
      "execution_count": 0,
      "outputs": [
        {
          "output_type": "stream",
          "text": [
            "_________________________________________________________________\n",
            "Layer (type)                 Output Shape              Param #   \n",
            "=================================================================\n",
            "input_3 (InputLayer)         (None, 784)               0         \n",
            "_________________________________________________________________\n",
            "dense_5 (Dense)              (None, 512)               401920    \n",
            "_________________________________________________________________\n",
            "dense_6 (Dense)              (None, 512)               262656    \n",
            "_________________________________________________________________\n",
            "dense_7 (Dense)              (None, 10)                5130      \n",
            "=================================================================\n",
            "Total params: 669,706\n",
            "Trainable params: 669,706\n",
            "Non-trainable params: 0\n",
            "_________________________________________________________________\n"
          ],
          "name": "stdout"
        },
        {
          "output_type": "stream",
          "text": [
            "/usr/local/lib/python3.6/dist-packages/ipykernel_launcher.py:15: UserWarning: The `nb_epoch` argument in `fit` has been renamed `epochs`.\n",
            "  from ipykernel import kernelapp as app\n"
          ],
          "name": "stderr"
        },
        {
          "output_type": "stream",
          "text": [
            "Train on 60000 samples, validate on 5000 samples\n",
            "Epoch 1/4\n",
            "60000/60000 [==============================] - 9s 158us/step - loss: 0.2186 - acc: 0.9360 - val_loss: 0.1277 - val_acc: 0.9600\n",
            "Epoch 2/4\n",
            "60000/60000 [==============================] - 9s 153us/step - loss: 0.0791 - acc: 0.9753 - val_loss: 0.0994 - val_acc: 0.9676\n",
            "Epoch 3/4\n",
            "60000/60000 [==============================] - 9s 156us/step - loss: 0.0520 - acc: 0.9841 - val_loss: 0.0874 - val_acc: 0.9708\n",
            "Epoch 4/4\n",
            "60000/60000 [==============================] - 9s 152us/step - loss: 0.0350 - acc: 0.9890 - val_loss: 0.0992 - val_acc: 0.9718\n",
            "Test score: 0.04513814133445267\n",
            "Test accuracy: 0.9858\n"
          ],
          "name": "stdout"
        }
      ]
    },
    {
      "cell_type": "markdown",
      "metadata": {
        "id": "CEg94tysf4f9",
        "colab_type": "text"
      },
      "source": [
        "#### Añadimos dropout para evitar overfitting"
      ]
    },
    {
      "cell_type": "markdown",
      "metadata": {
        "id": "t0Hq57zfgAn8",
        "colab_type": "text"
      },
      "source": [
        "poner imagen overfitting"
      ]
    },
    {
      "cell_type": "code",
      "metadata": {
        "id": "W-clsmyfgTOZ",
        "colab_type": "code",
        "outputId": "7f216148-36b0-476b-96f9-0694a547ed9f",
        "colab": {
          "base_uri": "https://localhost:8080/",
          "height": 592
        }
      },
      "source": [
        "# Diseño de la arquitectura de la red neuronal\n",
        "input_layer = Input(shape=(X_train.shape[1],))\n",
        "hidden_layer_1 = Dense(512, activation='relu')(input_layer)\n",
        "dropout_1 = Dropout(0.2)(hidden_layer_1)\n",
        "hidden_layer_2 = Dense(512, activation='relu')(hidden_layer_1)\n",
        "dropout_2 = Dropout(0.2)(hidden_layer_2)\n",
        "output_layer = Dense(10, activation='softmax')(dropout_2)\n",
        "model= Model(inputs=input_layer, outputs=output_layer)\n",
        "model.summary()\n",
        "\n",
        "# Compilación del modelo\n",
        "model.compile(loss='categorical_crossentropy', optimizer='adam', metrics=['accuracy'])\n",
        "\n",
        "# Entrenamiento\n",
        "model.fit(X_train, Y_train,\n",
        "          batch_size=128, nb_epoch=4,\n",
        "          verbose=1,\n",
        "          validation_data=(X_val, Y_val)\n",
        "         )\n",
        "\n",
        "# Obtención de métricas\n",
        "score = model.evaluate(X_test, Y_test, verbose=0)\n",
        "print('Test score:', score[0])\n",
        "print('Test accuracy:', score[1])"
      ],
      "execution_count": 0,
      "outputs": [
        {
          "output_type": "stream",
          "text": [
            "W0622 19:17:19.708700 140520866420608 deprecation.py:506] From /usr/local/lib/python3.6/dist-packages/keras/backend/tensorflow_backend.py:3445: calling dropout (from tensorflow.python.ops.nn_ops) with keep_prob is deprecated and will be removed in a future version.\n",
            "Instructions for updating:\n",
            "Please use `rate` instead of `keep_prob`. Rate should be set to `rate = 1 - keep_prob`.\n"
          ],
          "name": "stderr"
        },
        {
          "output_type": "stream",
          "text": [
            "_________________________________________________________________\n",
            "Layer (type)                 Output Shape              Param #   \n",
            "=================================================================\n",
            "input_4 (InputLayer)         (None, 784)               0         \n",
            "_________________________________________________________________\n",
            "dense_8 (Dense)              (None, 512)               401920    \n",
            "_________________________________________________________________\n",
            "dense_9 (Dense)              (None, 512)               262656    \n",
            "_________________________________________________________________\n",
            "dropout_2 (Dropout)          (None, 512)               0         \n",
            "_________________________________________________________________\n",
            "dense_10 (Dense)             (None, 10)                5130      \n",
            "=================================================================\n",
            "Total params: 669,706\n",
            "Trainable params: 669,706\n",
            "Non-trainable params: 0\n",
            "_________________________________________________________________\n"
          ],
          "name": "stdout"
        },
        {
          "output_type": "stream",
          "text": [
            "/usr/local/lib/python3.6/dist-packages/ipykernel_launcher.py:17: UserWarning: The `nb_epoch` argument in `fit` has been renamed `epochs`.\n"
          ],
          "name": "stderr"
        },
        {
          "output_type": "stream",
          "text": [
            "Train on 60000 samples, validate on 5000 samples\n",
            "Epoch 1/4\n",
            "60000/60000 [==============================] - 10s 169us/step - loss: 0.2290 - acc: 0.9323 - val_loss: 0.1343 - val_acc: 0.9570\n",
            "Epoch 2/4\n",
            "60000/60000 [==============================] - 10s 160us/step - loss: 0.0844 - acc: 0.9743 - val_loss: 0.1026 - val_acc: 0.9638\n",
            "Epoch 3/4\n",
            "60000/60000 [==============================] - 10s 160us/step - loss: 0.0548 - acc: 0.9831 - val_loss: 0.1022 - val_acc: 0.9674\n",
            "Epoch 4/4\n",
            "60000/60000 [==============================] - 10s 161us/step - loss: 0.0392 - acc: 0.9876 - val_loss: 0.0885 - val_acc: 0.9718\n",
            "Test score: 0.041081462171464224\n",
            "Test accuracy: 0.9874\n"
          ],
          "name": "stdout"
        }
      ]
    },
    {
      "cell_type": "markdown",
      "metadata": {
        "id": "EEtDFDBqFpjV",
        "colab_type": "text"
      },
      "source": [
        "## 4. Construcción de una red neuronal convolucional mediante Keras"
      ]
    },
    {
      "cell_type": "markdown",
      "metadata": {
        "id": "rSJjG66elwKN",
        "colab_type": "text"
      },
      "source": [
        "imagen de redes neuronales convolucionales"
      ]
    },
    {
      "cell_type": "markdown",
      "metadata": {
        "id": "HP5PlGXWhs2d",
        "colab_type": "text"
      },
      "source": [
        "### 4.1 Carga de datos"
      ]
    },
    {
      "cell_type": "markdown",
      "metadata": {
        "id": "eiswcDaJh2Kk",
        "colab_type": "text"
      },
      "source": [
        "#### Preproceso de datos\n",
        "- Reshape a tamaño 28x28x1"
      ]
    },
    {
      "cell_type": "code",
      "metadata": {
        "id": "pQddDs4VijgH",
        "colab_type": "code",
        "outputId": "915a30e0-00bd-4789-d6c6-ba9b18114680",
        "colab": {
          "base_uri": "https://localhost:8080/",
          "height": 69
        }
      },
      "source": [
        "X_train = X_train.reshape(X_train.shape[0], 28, 28)[..., np.newaxis]\n",
        "X_val = X_val.reshape(X_val.shape[0], 28, 28)[..., np.newaxis]\n",
        "X_test = X_test.reshape(X_test.shape[0], 28, 28)[..., np.newaxis]\n",
        "print(\"X_train dimensions\", X_train.shape)\n",
        "print(\"X_val dimensions\", X_val.shape)\n",
        "print(\"X_test dimensions\", X_test.shape)"
      ],
      "execution_count": 0,
      "outputs": [
        {
          "output_type": "stream",
          "text": [
            "X_train dimensions (60000, 28, 28, 1)\n",
            "X_val dimensions (5000, 28, 28, 1)\n",
            "X_test dimensions (5000, 28, 28, 1)\n"
          ],
          "name": "stdout"
        }
      ]
    },
    {
      "cell_type": "markdown",
      "metadata": {
        "id": "FWSYUh9ujSCt",
        "colab_type": "text"
      },
      "source": [
        "### 4.2 Diseño de la arquitectura de la red neuronal convolucional"
      ]
    },
    {
      "cell_type": "code",
      "metadata": {
        "id": "g0XYqzyMkFcX",
        "colab_type": "code",
        "outputId": "a647d413-5f56-43c6-c5f3-6846fcc761b1",
        "colab": {
          "base_uri": "https://localhost:8080/",
          "height": 451
        }
      },
      "source": [
        "input_layer = Input(shape=(X_train.shape[1],X_train.shape[2], 1))\n",
        "conv_layer_1 = Conv2D(filters=8, kernel_size=(3, 3), activation='relu')(input_layer)\n",
        "maxpool_layer_1 = MaxPool2D(pool_size=(2, 2))(conv_layer_1)\n",
        "conv_layer_2 = Conv2D(filters=16, kernel_size=(3, 3), activation='relu')(maxpool_layer_1)\n",
        "maxpool_layer_2 = MaxPool2D(pool_size=(2, 2))(conv_layer_2)\n",
        "conv_layer_3 = Conv2D(filters=32, kernel_size=(3, 3), activation='relu')(maxpool_layer_2)\n",
        "flatten_layer = Flatten()(conv_layer_3)\n",
        "dense_layer = Dense(128, activation='relu')(flatten_layer)\n",
        "output_layer = Dense(10, activation='softmax')(dense_layer)\n",
        "model= Model(inputs=input_layer, outputs=output_layer)\n",
        "model.summary()"
      ],
      "execution_count": 0,
      "outputs": [
        {
          "output_type": "stream",
          "text": [
            "_________________________________________________________________\n",
            "Layer (type)                 Output Shape              Param #   \n",
            "=================================================================\n",
            "input_8 (InputLayer)         (None, 28, 28, 1)         0         \n",
            "_________________________________________________________________\n",
            "conv2d_9 (Conv2D)            (None, 26, 26, 8)         80        \n",
            "_________________________________________________________________\n",
            "max_pooling2d_8 (MaxPooling2 (None, 13, 13, 8)         0         \n",
            "_________________________________________________________________\n",
            "conv2d_10 (Conv2D)           (None, 11, 11, 16)        1168      \n",
            "_________________________________________________________________\n",
            "max_pooling2d_9 (MaxPooling2 (None, 5, 5, 16)          0         \n",
            "_________________________________________________________________\n",
            "conv2d_11 (Conv2D)           (None, 3, 3, 32)          4640      \n",
            "_________________________________________________________________\n",
            "flatten_4 (Flatten)          (None, 288)               0         \n",
            "_________________________________________________________________\n",
            "dense_17 (Dense)             (None, 128)               36992     \n",
            "_________________________________________________________________\n",
            "dense_18 (Dense)             (None, 10)                1290      \n",
            "=================================================================\n",
            "Total params: 44,170\n",
            "Trainable params: 44,170\n",
            "Non-trainable params: 0\n",
            "_________________________________________________________________\n"
          ],
          "name": "stdout"
        }
      ]
    },
    {
      "cell_type": "markdown",
      "metadata": {
        "id": "aSreIU-rm3wp",
        "colab_type": "text"
      },
      "source": [
        "#### Compilación\n"
      ]
    },
    {
      "cell_type": "code",
      "metadata": {
        "id": "KNl1dAX-m_MM",
        "colab_type": "code",
        "colab": {}
      },
      "source": [
        "model.compile(loss='categorical_crossentropy', optimizer='adam', metrics=['accuracy'])"
      ],
      "execution_count": 0,
      "outputs": []
    },
    {
      "cell_type": "markdown",
      "metadata": {
        "id": "QWkV8M1nnBD7",
        "colab_type": "text"
      },
      "source": [
        "## 4.3 Entrenamiento"
      ]
    },
    {
      "cell_type": "code",
      "metadata": {
        "id": "-MlQ-2fsnIQP",
        "colab_type": "code",
        "outputId": "b009f8d9-1294-4c41-9199-f4b2ee57c547",
        "colab": {
          "base_uri": "https://localhost:8080/",
          "height": 245
        }
      },
      "source": [
        "model.fit(X_train, Y_train,\n",
        "          batch_size=128, nb_epoch=4,\n",
        "          verbose=1,\n",
        "          validation_data=(X_val, Y_val)\n",
        "         )"
      ],
      "execution_count": 0,
      "outputs": [
        {
          "output_type": "stream",
          "text": [
            "/usr/local/lib/python3.6/dist-packages/ipykernel_launcher.py:4: UserWarning: The `nb_epoch` argument in `fit` has been renamed `epochs`.\n",
            "  after removing the cwd from sys.path.\n"
          ],
          "name": "stderr"
        },
        {
          "output_type": "stream",
          "text": [
            "Train on 60000 samples, validate on 5000 samples\n",
            "Epoch 1/4\n",
            "60000/60000 [==============================] - 21s 349us/step - loss: 0.3662 - acc: 0.8900 - val_loss: 0.1278 - val_acc: 0.9612\n",
            "Epoch 2/4\n",
            "60000/60000 [==============================] - 20s 334us/step - loss: 0.0913 - acc: 0.9717 - val_loss: 0.0888 - val_acc: 0.9726\n",
            "Epoch 3/4\n",
            "60000/60000 [==============================] - 20s 334us/step - loss: 0.0650 - acc: 0.9797 - val_loss: 0.0631 - val_acc: 0.9770\n",
            "Epoch 4/4\n",
            "60000/60000 [==============================] - 20s 335us/step - loss: 0.0535 - acc: 0.9832 - val_loss: 0.0593 - val_acc: 0.9808\n"
          ],
          "name": "stdout"
        },
        {
          "output_type": "execute_result",
          "data": {
            "text/plain": [
              "<keras.callbacks.History at 0x7fcd4e36df98>"
            ]
          },
          "metadata": {
            "tags": []
          },
          "execution_count": 31
        }
      ]
    },
    {
      "cell_type": "markdown",
      "metadata": {
        "id": "-64MFHKWomZg",
        "colab_type": "text"
      },
      "source": [
        "### 4.4 Evaluación del modelo\n",
        "\n",
        "#### Obtención de métricas\n"
      ]
    },
    {
      "cell_type": "code",
      "metadata": {
        "id": "EIA30irCozcK",
        "colab_type": "code",
        "outputId": "55ea6387-b2cd-4463-f790-1a5c07a5039c",
        "colab": {
          "base_uri": "https://localhost:8080/",
          "height": 195
        }
      },
      "source": [
        "score = model.evaluate(X_test, Y_test, verbose=0)\n",
        "print('Test score:', score[0])\n",
        "print('Test accuracy:', score[1])"
      ],
      "execution_count": 0,
      "outputs": [
        {
          "output_type": "error",
          "ename": "NameError",
          "evalue": "ignored",
          "traceback": [
            "\u001b[0;31m---------------------------------------------------------------------------\u001b[0m",
            "\u001b[0;31mNameError\u001b[0m                                 Traceback (most recent call last)",
            "\u001b[0;32m<ipython-input-1-8daf22b46d82>\u001b[0m in \u001b[0;36m<module>\u001b[0;34m()\u001b[0m\n\u001b[0;32m----> 1\u001b[0;31m \u001b[0mscore\u001b[0m \u001b[0;34m=\u001b[0m \u001b[0mmodel\u001b[0m\u001b[0;34m.\u001b[0m\u001b[0mevaluate\u001b[0m\u001b[0;34m(\u001b[0m\u001b[0mX_test\u001b[0m\u001b[0;34m,\u001b[0m \u001b[0mY_test\u001b[0m\u001b[0;34m,\u001b[0m \u001b[0mverbose\u001b[0m\u001b[0;34m=\u001b[0m\u001b[0;36m0\u001b[0m\u001b[0;34m)\u001b[0m\u001b[0;34m\u001b[0m\u001b[0;34m\u001b[0m\u001b[0m\n\u001b[0m\u001b[1;32m      2\u001b[0m \u001b[0mprint\u001b[0m\u001b[0;34m(\u001b[0m\u001b[0;34m'Test score:'\u001b[0m\u001b[0;34m,\u001b[0m \u001b[0mscore\u001b[0m\u001b[0;34m[\u001b[0m\u001b[0;36m0\u001b[0m\u001b[0;34m]\u001b[0m\u001b[0;34m)\u001b[0m\u001b[0;34m\u001b[0m\u001b[0;34m\u001b[0m\u001b[0m\n\u001b[1;32m      3\u001b[0m \u001b[0mprint\u001b[0m\u001b[0;34m(\u001b[0m\u001b[0;34m'Test accuracy:'\u001b[0m\u001b[0;34m,\u001b[0m \u001b[0mscore\u001b[0m\u001b[0;34m[\u001b[0m\u001b[0;36m1\u001b[0m\u001b[0;34m]\u001b[0m\u001b[0;34m)\u001b[0m\u001b[0;34m\u001b[0m\u001b[0;34m\u001b[0m\u001b[0m\n",
            "\u001b[0;31mNameError\u001b[0m: name 'model' is not defined"
          ]
        }
      ]
    },
    {
      "cell_type": "markdown",
      "metadata": {
        "id": "SjH9_HDnFpjV",
        "colab_type": "text"
      },
      "source": [
        "There are lots of other great examples at the Keras homepage at http://keras.io and in the source code at https://github.com/fchollet/keras"
      ]
    }
  ]
}